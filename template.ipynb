{
 "cells": [
  {
   "cell_type": "markdown",
   "id": "f41c74bc",
   "metadata": {},
   "source": [
    "# Course: Data Science for Decision Support\n",
    "\n",
    "### Assignment 1.1 (Submission deadline 18.05.2022, 16:00)\n",
    "### Author: Firstname, Lastname: Matriculation Nr."
   ]
  },
  {
   "cell_type": "markdown",
   "id": "ad72f342",
   "metadata": {},
   "source": [
    "## Task 1"
   ]
  },
  {
   "cell_type": "code",
   "execution_count": null,
   "id": "7ce8d05f",
   "metadata": {},
   "outputs": [],
   "source": [
    "#Copy the text of the individual task here"
   ]
  },
  {
   "cell_type": "code",
   "execution_count": null,
   "id": "d2f72e55",
   "metadata": {},
   "outputs": [],
   "source": [
    "#Write the code of the requested function here"
   ]
  },
  {
   "cell_type": "code",
   "execution_count": 1,
   "id": "c291debd",
   "metadata": {},
   "outputs": [],
   "source": [
    "#Test your function with requested example if available"
   ]
  },
  {
   "cell_type": "code",
   "execution_count": null,
   "id": "87311a37",
   "metadata": {},
   "outputs": [],
   "source": [
    "#Make one more test for your function"
   ]
  },
  {
   "cell_type": "markdown",
   "id": "133c20e5",
   "metadata": {},
   "source": [
    "## Task 2"
   ]
  },
  {
   "cell_type": "code",
   "execution_count": null,
   "id": "07a5dc15",
   "metadata": {},
   "outputs": [],
   "source": [
    "#Copy the text of the individual task here"
   ]
  },
  {
   "cell_type": "code",
   "execution_count": null,
   "id": "f41a4d73",
   "metadata": {},
   "outputs": [],
   "source": [
    "#Write the function needed here"
   ]
  },
  {
   "cell_type": "code",
   "execution_count": null,
   "id": "3b1121cd",
   "metadata": {},
   "outputs": [],
   "source": [
    "#Test your function with requested example if available"
   ]
  },
  {
   "cell_type": "code",
   "execution_count": null,
   "id": "91df1970",
   "metadata": {},
   "outputs": [],
   "source": [
    "#Make one more test for your function"
   ]
  }
 ],
 "metadata": {
  "kernelspec": {
   "display_name": "Python 3 (ipykernel)",
   "language": "python",
   "name": "python3"
  },
  "language_info": {
   "codemirror_mode": {
    "name": "ipython",
    "version": 3
   },
   "file_extension": ".py",
   "mimetype": "text/x-python",
   "name": "python",
   "nbconvert_exporter": "python",
   "pygments_lexer": "ipython3",
   "version": "3.9.7"
  }
 },
 "nbformat": 4,
 "nbformat_minor": 5
}
