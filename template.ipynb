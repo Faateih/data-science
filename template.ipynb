{
  "cells": [
    {
      "cell_type": "markdown",
      "id": "ad72f342",
      "metadata": {
        "id": "ad72f342"
      },
      "source": [
        "## Task 1"
      ]
    },
    {
      "cell_type": "code",
      "execution_count": null,
      "id": "7ce8d05f",
      "metadata": {
        "id": "7ce8d05f"
      },
      "outputs": [],
      "source": [
        "Import the following modules: “math”, “keras”, “bqplot“, “numpy“"
      ]
    },
    {
      "cell_type": "code",
      "execution_count": null,
      "id": "d2f72e55",
      "metadata": {
        "colab": {
          "base_uri": "https://localhost:8080/"
        },
        "id": "d2f72e55",
        "outputId": "21658a14-c47e-4ae0-f105-e2d29c60a318"
      },
      "outputs": [
        {
          "output_type": "stream",
          "name": "stdout",
          "text": [
            "Collecting bqplot\n",
            "  Downloading bqplot-0.12.33-py2.py3-none-any.whl (1.2 MB)\n",
            "\u001b[?25l\r\u001b[K     |▎                               | 10 kB 23.9 MB/s eta 0:00:01\r\u001b[K     |▌                               | 20 kB 28.4 MB/s eta 0:00:01\r\u001b[K     |▉                               | 30 kB 32.9 MB/s eta 0:00:01\r\u001b[K     |█                               | 40 kB 23.0 MB/s eta 0:00:01\r\u001b[K     |█▎                              | 51 kB 17.6 MB/s eta 0:00:01\r\u001b[K     |█▋                              | 61 kB 20.0 MB/s eta 0:00:01\r\u001b[K     |█▉                              | 71 kB 21.1 MB/s eta 0:00:01\r\u001b[K     |██▏                             | 81 kB 22.6 MB/s eta 0:00:01\r\u001b[K     |██▍                             | 92 kB 24.5 MB/s eta 0:00:01\r\u001b[K     |██▋                             | 102 kB 22.9 MB/s eta 0:00:01\r\u001b[K     |███                             | 112 kB 22.9 MB/s eta 0:00:01\r\u001b[K     |███▏                            | 122 kB 22.9 MB/s eta 0:00:01\r\u001b[K     |███▌                            | 133 kB 22.9 MB/s eta 0:00:01\r\u001b[K     |███▊                            | 143 kB 22.9 MB/s eta 0:00:01\r\u001b[K     |████                            | 153 kB 22.9 MB/s eta 0:00:01\r\u001b[K     |████▎                           | 163 kB 22.9 MB/s eta 0:00:01\r\u001b[K     |████▌                           | 174 kB 22.9 MB/s eta 0:00:01\r\u001b[K     |████▉                           | 184 kB 22.9 MB/s eta 0:00:01\r\u001b[K     |█████                           | 194 kB 22.9 MB/s eta 0:00:01\r\u001b[K     |█████▎                          | 204 kB 22.9 MB/s eta 0:00:01\r\u001b[K     |█████▋                          | 215 kB 22.9 MB/s eta 0:00:01\r\u001b[K     |█████▉                          | 225 kB 22.9 MB/s eta 0:00:01\r\u001b[K     |██████▏                         | 235 kB 22.9 MB/s eta 0:00:01\r\u001b[K     |██████▍                         | 245 kB 22.9 MB/s eta 0:00:01\r\u001b[K     |██████▋                         | 256 kB 22.9 MB/s eta 0:00:01\r\u001b[K     |███████                         | 266 kB 22.9 MB/s eta 0:00:01\r\u001b[K     |███████▏                        | 276 kB 22.9 MB/s eta 0:00:01\r\u001b[K     |███████▌                        | 286 kB 22.9 MB/s eta 0:00:01\r\u001b[K     |███████▊                        | 296 kB 22.9 MB/s eta 0:00:01\r\u001b[K     |████████                        | 307 kB 22.9 MB/s eta 0:00:01\r\u001b[K     |████████▎                       | 317 kB 22.9 MB/s eta 0:00:01\r\u001b[K     |████████▌                       | 327 kB 22.9 MB/s eta 0:00:01\r\u001b[K     |████████▉                       | 337 kB 22.9 MB/s eta 0:00:01\r\u001b[K     |█████████                       | 348 kB 22.9 MB/s eta 0:00:01\r\u001b[K     |█████████▎                      | 358 kB 22.9 MB/s eta 0:00:01\r\u001b[K     |█████████▋                      | 368 kB 22.9 MB/s eta 0:00:01\r\u001b[K     |█████████▉                      | 378 kB 22.9 MB/s eta 0:00:01\r\u001b[K     |██████████▏                     | 389 kB 22.9 MB/s eta 0:00:01\r\u001b[K     |██████████▍                     | 399 kB 22.9 MB/s eta 0:00:01\r\u001b[K     |██████████▋                     | 409 kB 22.9 MB/s eta 0:00:01\r\u001b[K     |███████████                     | 419 kB 22.9 MB/s eta 0:00:01\r\u001b[K     |███████████▏                    | 430 kB 22.9 MB/s eta 0:00:01\r\u001b[K     |███████████▌                    | 440 kB 22.9 MB/s eta 0:00:01\r\u001b[K     |███████████▊                    | 450 kB 22.9 MB/s eta 0:00:01\r\u001b[K     |████████████                    | 460 kB 22.9 MB/s eta 0:00:01\r\u001b[K     |████████████▎                   | 471 kB 22.9 MB/s eta 0:00:01\r\u001b[K     |████████████▌                   | 481 kB 22.9 MB/s eta 0:00:01\r\u001b[K     |████████████▉                   | 491 kB 22.9 MB/s eta 0:00:01\r\u001b[K     |█████████████                   | 501 kB 22.9 MB/s eta 0:00:01\r\u001b[K     |█████████████▎                  | 512 kB 22.9 MB/s eta 0:00:01\r\u001b[K     |█████████████▋                  | 522 kB 22.9 MB/s eta 0:00:01\r\u001b[K     |█████████████▉                  | 532 kB 22.9 MB/s eta 0:00:01\r\u001b[K     |██████████████▏                 | 542 kB 22.9 MB/s eta 0:00:01\r\u001b[K     |██████████████▍                 | 552 kB 22.9 MB/s eta 0:00:01\r\u001b[K     |██████████████▋                 | 563 kB 22.9 MB/s eta 0:00:01\r\u001b[K     |███████████████                 | 573 kB 22.9 MB/s eta 0:00:01\r\u001b[K     |███████████████▏                | 583 kB 22.9 MB/s eta 0:00:01\r\u001b[K     |███████████████▌                | 593 kB 22.9 MB/s eta 0:00:01\r\u001b[K     |███████████████▊                | 604 kB 22.9 MB/s eta 0:00:01\r\u001b[K     |████████████████                | 614 kB 22.9 MB/s eta 0:00:01\r\u001b[K     |████████████████▎               | 624 kB 22.9 MB/s eta 0:00:01\r\u001b[K     |████████████████▌               | 634 kB 22.9 MB/s eta 0:00:01\r\u001b[K     |████████████████▉               | 645 kB 22.9 MB/s eta 0:00:01\r\u001b[K     |█████████████████               | 655 kB 22.9 MB/s eta 0:00:01\r\u001b[K     |█████████████████▎              | 665 kB 22.9 MB/s eta 0:00:01\r\u001b[K     |█████████████████▋              | 675 kB 22.9 MB/s eta 0:00:01\r\u001b[K     |█████████████████▉              | 686 kB 22.9 MB/s eta 0:00:01\r\u001b[K     |██████████████████▏             | 696 kB 22.9 MB/s eta 0:00:01\r\u001b[K     |██████████████████▍             | 706 kB 22.9 MB/s eta 0:00:01\r\u001b[K     |██████████████████▋             | 716 kB 22.9 MB/s eta 0:00:01\r\u001b[K     |███████████████████             | 727 kB 22.9 MB/s eta 0:00:01\r\u001b[K     |███████████████████▏            | 737 kB 22.9 MB/s eta 0:00:01\r\u001b[K     |███████████████████▌            | 747 kB 22.9 MB/s eta 0:00:01\r\u001b[K     |███████████████████▊            | 757 kB 22.9 MB/s eta 0:00:01\r\u001b[K     |████████████████████            | 768 kB 22.9 MB/s eta 0:00:01\r\u001b[K     |████████████████████▎           | 778 kB 22.9 MB/s eta 0:00:01\r\u001b[K     |████████████████████▌           | 788 kB 22.9 MB/s eta 0:00:01\r\u001b[K     |████████████████████▉           | 798 kB 22.9 MB/s eta 0:00:01\r\u001b[K     |█████████████████████           | 808 kB 22.9 MB/s eta 0:00:01\r\u001b[K     |█████████████████████▎          | 819 kB 22.9 MB/s eta 0:00:01\r\u001b[K     |█████████████████████▋          | 829 kB 22.9 MB/s eta 0:00:01\r\u001b[K     |█████████████████████▉          | 839 kB 22.9 MB/s eta 0:00:01\r\u001b[K     |██████████████████████▏         | 849 kB 22.9 MB/s eta 0:00:01\r\u001b[K     |██████████████████████▍         | 860 kB 22.9 MB/s eta 0:00:01\r\u001b[K     |██████████████████████▋         | 870 kB 22.9 MB/s eta 0:00:01\r\u001b[K     |███████████████████████         | 880 kB 22.9 MB/s eta 0:00:01\r\u001b[K     |███████████████████████▏        | 890 kB 22.9 MB/s eta 0:00:01\r\u001b[K     |███████████████████████▌        | 901 kB 22.9 MB/s eta 0:00:01\r\u001b[K     |███████████████████████▊        | 911 kB 22.9 MB/s eta 0:00:01\r\u001b[K     |████████████████████████        | 921 kB 22.9 MB/s eta 0:00:01\r\u001b[K     |████████████████████████▎       | 931 kB 22.9 MB/s eta 0:00:01\r\u001b[K     |████████████████████████▌       | 942 kB 22.9 MB/s eta 0:00:01\r\u001b[K     |████████████████████████▉       | 952 kB 22.9 MB/s eta 0:00:01\r\u001b[K     |█████████████████████████       | 962 kB 22.9 MB/s eta 0:00:01\r\u001b[K     |█████████████████████████▎      | 972 kB 22.9 MB/s eta 0:00:01\r\u001b[K     |█████████████████████████▋      | 983 kB 22.9 MB/s eta 0:00:01\r\u001b[K     |█████████████████████████▉      | 993 kB 22.9 MB/s eta 0:00:01\r\u001b[K     |██████████████████████████▏     | 1.0 MB 22.9 MB/s eta 0:00:01\r\u001b[K     |██████████████████████████▍     | 1.0 MB 22.9 MB/s eta 0:00:01\r\u001b[K     |██████████████████████████▋     | 1.0 MB 22.9 MB/s eta 0:00:01\r\u001b[K     |███████████████████████████     | 1.0 MB 22.9 MB/s eta 0:00:01\r\u001b[K     |███████████████████████████▏    | 1.0 MB 22.9 MB/s eta 0:00:01\r\u001b[K     |███████████████████████████▌    | 1.1 MB 22.9 MB/s eta 0:00:01\r\u001b[K     |███████████████████████████▊    | 1.1 MB 22.9 MB/s eta 0:00:01\r\u001b[K     |████████████████████████████    | 1.1 MB 22.9 MB/s eta 0:00:01\r\u001b[K     |████████████████████████████▎   | 1.1 MB 22.9 MB/s eta 0:00:01\r\u001b[K     |████████████████████████████▌   | 1.1 MB 22.9 MB/s eta 0:00:01\r\u001b[K     |████████████████████████████▉   | 1.1 MB 22.9 MB/s eta 0:00:01\r\u001b[K     |█████████████████████████████   | 1.1 MB 22.9 MB/s eta 0:00:01\r\u001b[K     |█████████████████████████████▎  | 1.1 MB 22.9 MB/s eta 0:00:01\r\u001b[K     |█████████████████████████████▋  | 1.1 MB 22.9 MB/s eta 0:00:01\r\u001b[K     |█████████████████████████████▉  | 1.1 MB 22.9 MB/s eta 0:00:01\r\u001b[K     |██████████████████████████████▏ | 1.2 MB 22.9 MB/s eta 0:00:01\r\u001b[K     |██████████████████████████████▍ | 1.2 MB 22.9 MB/s eta 0:00:01\r\u001b[K     |██████████████████████████████▋ | 1.2 MB 22.9 MB/s eta 0:00:01\r\u001b[K     |███████████████████████████████ | 1.2 MB 22.9 MB/s eta 0:00:01\r\u001b[K     |███████████████████████████████▏| 1.2 MB 22.9 MB/s eta 0:00:01\r\u001b[K     |███████████████████████████████▌| 1.2 MB 22.9 MB/s eta 0:00:01\r\u001b[K     |███████████████████████████████▊| 1.2 MB 22.9 MB/s eta 0:00:01\r\u001b[K     |████████████████████████████████| 1.2 MB 22.9 MB/s eta 0:00:01\r\u001b[K     |████████████████████████████████| 1.2 MB 22.9 MB/s \n",
            "\u001b[?25hRequirement already satisfied: numpy<2.0.0,>=1.10.4 in /usr/local/lib/python3.7/dist-packages (from bqplot) (1.21.6)\n",
            "Requirement already satisfied: pandas<2.0.0,>=1.0.0 in /usr/local/lib/python3.7/dist-packages (from bqplot) (1.3.5)\n",
            "Requirement already satisfied: ipywidgets>=7.5.0 in /usr/local/lib/python3.7/dist-packages (from bqplot) (7.7.0)\n",
            "Requirement already satisfied: traitlets>=4.3.0 in /usr/local/lib/python3.7/dist-packages (from bqplot) (5.1.1)\n",
            "Collecting traittypes>=0.0.6\n",
            "  Downloading traittypes-0.2.1-py2.py3-none-any.whl (8.6 kB)\n",
            "Requirement already satisfied: nbformat>=4.2.0 in /usr/local/lib/python3.7/dist-packages (from ipywidgets>=7.5.0->bqplot) (5.3.0)\n",
            "Requirement already satisfied: jupyterlab-widgets>=1.0.0 in /usr/local/lib/python3.7/dist-packages (from ipywidgets>=7.5.0->bqplot) (1.1.0)\n",
            "Requirement already satisfied: ipykernel>=4.5.1 in /usr/local/lib/python3.7/dist-packages (from ipywidgets>=7.5.0->bqplot) (4.10.1)\n",
            "Requirement already satisfied: ipython-genutils~=0.2.0 in /usr/local/lib/python3.7/dist-packages (from ipywidgets>=7.5.0->bqplot) (0.2.0)\n",
            "Requirement already satisfied: ipython>=4.0.0 in /usr/local/lib/python3.7/dist-packages (from ipywidgets>=7.5.0->bqplot) (5.5.0)\n",
            "Requirement already satisfied: widgetsnbextension~=3.6.0 in /usr/local/lib/python3.7/dist-packages (from ipywidgets>=7.5.0->bqplot) (3.6.0)\n",
            "Requirement already satisfied: jupyter-client in /usr/local/lib/python3.7/dist-packages (from ipykernel>=4.5.1->ipywidgets>=7.5.0->bqplot) (5.3.5)\n",
            "Requirement already satisfied: tornado>=4.0 in /usr/local/lib/python3.7/dist-packages (from ipykernel>=4.5.1->ipywidgets>=7.5.0->bqplot) (5.1.1)\n",
            "Requirement already satisfied: setuptools>=18.5 in /usr/local/lib/python3.7/dist-packages (from ipython>=4.0.0->ipywidgets>=7.5.0->bqplot) (57.4.0)\n",
            "Requirement already satisfied: pickleshare in /usr/local/lib/python3.7/dist-packages (from ipython>=4.0.0->ipywidgets>=7.5.0->bqplot) (0.7.5)\n",
            "Requirement already satisfied: pygments in /usr/local/lib/python3.7/dist-packages (from ipython>=4.0.0->ipywidgets>=7.5.0->bqplot) (2.6.1)\n",
            "Requirement already satisfied: simplegeneric>0.8 in /usr/local/lib/python3.7/dist-packages (from ipython>=4.0.0->ipywidgets>=7.5.0->bqplot) (0.8.1)\n",
            "Requirement already satisfied: pexpect in /usr/local/lib/python3.7/dist-packages (from ipython>=4.0.0->ipywidgets>=7.5.0->bqplot) (4.8.0)\n",
            "Requirement already satisfied: prompt-toolkit<2.0.0,>=1.0.4 in /usr/local/lib/python3.7/dist-packages (from ipython>=4.0.0->ipywidgets>=7.5.0->bqplot) (1.0.18)\n",
            "Requirement already satisfied: decorator in /usr/local/lib/python3.7/dist-packages (from ipython>=4.0.0->ipywidgets>=7.5.0->bqplot) (4.4.2)\n",
            "Requirement already satisfied: jsonschema>=2.6 in /usr/local/lib/python3.7/dist-packages (from nbformat>=4.2.0->ipywidgets>=7.5.0->bqplot) (4.3.3)\n",
            "Requirement already satisfied: fastjsonschema in /usr/local/lib/python3.7/dist-packages (from nbformat>=4.2.0->ipywidgets>=7.5.0->bqplot) (2.15.3)\n",
            "Requirement already satisfied: jupyter-core in /usr/local/lib/python3.7/dist-packages (from nbformat>=4.2.0->ipywidgets>=7.5.0->bqplot) (4.10.0)\n",
            "Requirement already satisfied: importlib-metadata in /usr/local/lib/python3.7/dist-packages (from jsonschema>=2.6->nbformat>=4.2.0->ipywidgets>=7.5.0->bqplot) (4.11.3)\n",
            "Requirement already satisfied: typing-extensions in /usr/local/lib/python3.7/dist-packages (from jsonschema>=2.6->nbformat>=4.2.0->ipywidgets>=7.5.0->bqplot) (4.2.0)\n",
            "Requirement already satisfied: importlib-resources>=1.4.0 in /usr/local/lib/python3.7/dist-packages (from jsonschema>=2.6->nbformat>=4.2.0->ipywidgets>=7.5.0->bqplot) (5.7.1)\n",
            "Requirement already satisfied: attrs>=17.4.0 in /usr/local/lib/python3.7/dist-packages (from jsonschema>=2.6->nbformat>=4.2.0->ipywidgets>=7.5.0->bqplot) (21.4.0)\n",
            "Requirement already satisfied: pyrsistent!=0.17.0,!=0.17.1,!=0.17.2,>=0.14.0 in /usr/local/lib/python3.7/dist-packages (from jsonschema>=2.6->nbformat>=4.2.0->ipywidgets>=7.5.0->bqplot) (0.18.1)\n",
            "Requirement already satisfied: zipp>=3.1.0 in /usr/local/lib/python3.7/dist-packages (from importlib-resources>=1.4.0->jsonschema>=2.6->nbformat>=4.2.0->ipywidgets>=7.5.0->bqplot) (3.8.0)\n",
            "Requirement already satisfied: pytz>=2017.3 in /usr/local/lib/python3.7/dist-packages (from pandas<2.0.0,>=1.0.0->bqplot) (2022.1)\n",
            "Requirement already satisfied: python-dateutil>=2.7.3 in /usr/local/lib/python3.7/dist-packages (from pandas<2.0.0,>=1.0.0->bqplot) (2.8.2)\n",
            "Requirement already satisfied: wcwidth in /usr/local/lib/python3.7/dist-packages (from prompt-toolkit<2.0.0,>=1.0.4->ipython>=4.0.0->ipywidgets>=7.5.0->bqplot) (0.2.5)\n",
            "Requirement already satisfied: six>=1.9.0 in /usr/local/lib/python3.7/dist-packages (from prompt-toolkit<2.0.0,>=1.0.4->ipython>=4.0.0->ipywidgets>=7.5.0->bqplot) (1.15.0)\n",
            "Requirement already satisfied: notebook>=4.4.1 in /usr/local/lib/python3.7/dist-packages (from widgetsnbextension~=3.6.0->ipywidgets>=7.5.0->bqplot) (5.3.1)\n",
            "Requirement already satisfied: Send2Trash in /usr/local/lib/python3.7/dist-packages (from notebook>=4.4.1->widgetsnbextension~=3.6.0->ipywidgets>=7.5.0->bqplot) (1.8.0)\n",
            "Requirement already satisfied: nbconvert in /usr/local/lib/python3.7/dist-packages (from notebook>=4.4.1->widgetsnbextension~=3.6.0->ipywidgets>=7.5.0->bqplot) (5.6.1)\n",
            "Requirement already satisfied: jinja2 in /usr/local/lib/python3.7/dist-packages (from notebook>=4.4.1->widgetsnbextension~=3.6.0->ipywidgets>=7.5.0->bqplot) (2.11.3)\n",
            "Requirement already satisfied: terminado>=0.8.1 in /usr/local/lib/python3.7/dist-packages (from notebook>=4.4.1->widgetsnbextension~=3.6.0->ipywidgets>=7.5.0->bqplot) (0.13.3)\n",
            "Requirement already satisfied: pyzmq>=13 in /usr/local/lib/python3.7/dist-packages (from jupyter-client->ipykernel>=4.5.1->ipywidgets>=7.5.0->bqplot) (22.3.0)\n",
            "Requirement already satisfied: ptyprocess in /usr/local/lib/python3.7/dist-packages (from terminado>=0.8.1->notebook>=4.4.1->widgetsnbextension~=3.6.0->ipywidgets>=7.5.0->bqplot) (0.7.0)\n",
            "Requirement already satisfied: MarkupSafe>=0.23 in /usr/local/lib/python3.7/dist-packages (from jinja2->notebook>=4.4.1->widgetsnbextension~=3.6.0->ipywidgets>=7.5.0->bqplot) (2.0.1)\n",
            "Requirement already satisfied: testpath in /usr/local/lib/python3.7/dist-packages (from nbconvert->notebook>=4.4.1->widgetsnbextension~=3.6.0->ipywidgets>=7.5.0->bqplot) (0.6.0)\n",
            "Requirement already satisfied: mistune<2,>=0.8.1 in /usr/local/lib/python3.7/dist-packages (from nbconvert->notebook>=4.4.1->widgetsnbextension~=3.6.0->ipywidgets>=7.5.0->bqplot) (0.8.4)\n",
            "Requirement already satisfied: bleach in /usr/local/lib/python3.7/dist-packages (from nbconvert->notebook>=4.4.1->widgetsnbextension~=3.6.0->ipywidgets>=7.5.0->bqplot) (5.0.0)\n",
            "Requirement already satisfied: pandocfilters>=1.4.1 in /usr/local/lib/python3.7/dist-packages (from nbconvert->notebook>=4.4.1->widgetsnbextension~=3.6.0->ipywidgets>=7.5.0->bqplot) (1.5.0)\n",
            "Requirement already satisfied: entrypoints>=0.2.2 in /usr/local/lib/python3.7/dist-packages (from nbconvert->notebook>=4.4.1->widgetsnbextension~=3.6.0->ipywidgets>=7.5.0->bqplot) (0.4)\n",
            "Requirement already satisfied: defusedxml in /usr/local/lib/python3.7/dist-packages (from nbconvert->notebook>=4.4.1->widgetsnbextension~=3.6.0->ipywidgets>=7.5.0->bqplot) (0.7.1)\n",
            "Requirement already satisfied: webencodings in /usr/local/lib/python3.7/dist-packages (from bleach->nbconvert->notebook>=4.4.1->widgetsnbextension~=3.6.0->ipywidgets>=7.5.0->bqplot) (0.5.1)\n",
            "Installing collected packages: traittypes, bqplot\n",
            "Successfully installed bqplot-0.12.33 traittypes-0.2.1\n"
          ]
        }
      ],
      "source": [
        "import math\n",
        "import keras\n",
        "import numpy as np\n",
        "import pandas \n",
        "!pip install bqplot\n",
        "\n",
        "import bqplot\n",
        "from sklearn.preprocessing import MinMaxScaler\n",
        "\n",
        "\n"
      ]
    },
    {
      "cell_type": "code",
      "execution_count": null,
      "id": "c291debd",
      "metadata": {
        "id": "c291debd"
      },
      "outputs": [],
      "source": [
        "#Test your function with requested example if available"
      ]
    },
    {
      "cell_type": "code",
      "execution_count": null,
      "id": "87311a37",
      "metadata": {
        "id": "87311a37"
      },
      "outputs": [],
      "source": [
        "#Make one more test for your function"
      ]
    },
    {
      "cell_type": "markdown",
      "id": "133c20e5",
      "metadata": {
        "id": "133c20e5"
      },
      "source": [
        "## Task 2"
      ]
    },
    {
      "cell_type": "code",
      "execution_count": null,
      "id": "07a5dc15",
      "metadata": {
        "id": "07a5dc15"
      },
      "outputs": [],
      "source": [
        "Write a function, which assigns a 25% discount to a product given a price. \n",
        "Approximate the result up to 2 decimal places"
      ]
    },
    {
      "cell_type": "code",
      "execution_count": null,
      "id": "f41a4d73",
      "metadata": {
        "id": "f41a4d73"
      },
      "outputs": [],
      "source": [
        "def discount(price):\n",
        "  price=price-(price/100)*25\n",
        "  print(price)\n"
      ]
    },
    {
      "cell_type": "code",
      "execution_count": null,
      "id": "3b1121cd",
      "metadata": {
        "colab": {
          "base_uri": "https://localhost:8080/"
        },
        "id": "3b1121cd",
        "outputId": "f41d4acb-19f0-4cd2-a5cc-6990a78853b6"
      },
      "outputs": [
        {
          "output_type": "stream",
          "name": "stdout",
          "text": [
            "9000.0\n"
          ]
        }
      ],
      "source": [
        "discount(12000)"
      ]
    },
    {
      "cell_type": "markdown",
      "metadata": {
        "id": "ut5981blI0bQ"
      },
      "source": [
        "## Task 3"
      ],
      "id": "ut5981blI0bQ"
    },
    {
      "cell_type": "code",
      "execution_count": null,
      "metadata": {
        "id": "SKGXZ0MPI0bR"
      },
      "outputs": [],
      "source": [
        "Write a function, which finds the sum of three numbers, return always integer. Input \n",
        "parameter can be of types float or integer"
      ],
      "id": "SKGXZ0MPI0bR"
    },
    {
      "cell_type": "code",
      "execution_count": null,
      "metadata": {
        "id": "jb1KnMOFI0bR"
      },
      "outputs": [],
      "source": [
        "def sum(num1,num2,num3):\n",
        "  sum=num1+num2+num3\n",
        "  print(int(sum))"
      ],
      "id": "jb1KnMOFI0bR"
    },
    {
      "cell_type": "code",
      "execution_count": null,
      "metadata": {
        "colab": {
          "base_uri": "https://localhost:8080/"
        },
        "id": "I4CUY1s8I0bS",
        "outputId": "aca3212a-ee22-4f93-d0a2-8297707c5f85"
      },
      "outputs": [
        {
          "output_type": "stream",
          "name": "stdout",
          "text": [
            "74\n"
          ]
        }
      ],
      "source": [
        "sum(25.4,25,24)"
      ],
      "id": "I4CUY1s8I0bS"
    },
    {
      "cell_type": "code",
      "execution_count": null,
      "metadata": {
        "id": "_mx3KJIJI0bS"
      },
      "outputs": [],
      "source": [
        "#Make one more test for your function"
      ],
      "id": "_mx3KJIJI0bS"
    },
    {
      "cell_type": "code",
      "execution_count": null,
      "id": "91df1970",
      "metadata": {
        "id": "91df1970"
      },
      "outputs": [],
      "source": [
        "#Make one more test for your function"
      ]
    },
    {
      "cell_type": "markdown",
      "metadata": {
        "id": "qItu5Mm9CS9J"
      },
      "source": [
        "## Task 4"
      ],
      "id": "qItu5Mm9CS9J"
    },
    {
      "cell_type": "code",
      "execution_count": null,
      "metadata": {
        "id": "lWxO_F2MCS9K"
      },
      "outputs": [],
      "source": [
        "A super_calculator function gets two integer numbers (num1,num2) and returns \n",
        "results by performing addition (num1+num2), subtraction (num1-num2), \n",
        "multiplication (num1*num2), division (num1/num2) and comparison (num1>num2) \n",
        "as a tuple. Round the float numbers up to 3 decimal places "
      ],
      "id": "lWxO_F2MCS9K"
    },
    {
      "cell_type": "code",
      "execution_count": null,
      "metadata": {
        "id": "_zyIQM4ACS9K"
      },
      "outputs": [],
      "source": [
        "def super_calculator(num1,num2):\n",
        "  addition=num1+num2\n",
        "  subtraction=num1-num2\n",
        "  multiplication=num1*num2\n",
        "  division=num1/num2\n",
        "  comparison=num1>num2\n",
        "  mytuple=((addition),(subtraction),format(division,\".3f\"),multiplication,comparison)\n",
        "  print(mytuple)\n"
      ],
      "id": "_zyIQM4ACS9K"
    },
    {
      "cell_type": "code",
      "execution_count": null,
      "metadata": {
        "colab": {
          "base_uri": "https://localhost:8080/"
        },
        "id": "jLzxZKPiCS9L",
        "outputId": "8e9d534f-cb43-43c5-8b37-5d695c098002"
      },
      "outputs": [
        {
          "output_type": "stream",
          "name": "stdout",
          "text": [
            "(9, 3, '2.000', 18, True)\n"
          ]
        }
      ],
      "source": [
        "super_calculator(6,3)"
      ],
      "id": "jLzxZKPiCS9L"
    },
    {
      "cell_type": "code",
      "execution_count": null,
      "metadata": {
        "id": "_UMXu37vCS9L"
      },
      "outputs": [],
      "source": [
        "#Make one more test for your function"
      ],
      "id": "_UMXu37vCS9L"
    },
    {
      "cell_type": "markdown",
      "source": [
        ""
      ],
      "metadata": {
        "id": "hAcu7vg-JvR7"
      },
      "id": "hAcu7vg-JvR7"
    },
    {
      "cell_type": "markdown",
      "metadata": {
        "id": "RAKMqNeEJv3Z"
      },
      "source": [
        "## Task 5"
      ],
      "id": "RAKMqNeEJv3Z"
    },
    {
      "cell_type": "code",
      "execution_count": null,
      "metadata": {
        "id": "-X1igIj0Jv3a"
      },
      "outputs": [],
      "source": [
        "Write a function ‘combine_tuples’, which combines three tuples concatenating \n",
        "the elements with the same indices and returns a list. "
      ],
      "id": "-X1igIj0Jv3a"
    },
    {
      "cell_type": "code",
      "execution_count": null,
      "metadata": {
        "id": "QrKErLgSJv3a"
      },
      "outputs": [],
      "source": [
        "def combine_tuples(mytuple1,mytuple2,mytuple3):\n",
        "  list=[]\n",
        "  for index in range(len(mytuple1)):\n",
        "    temp=mytuple1[index]+mytuple2[index]+mytuple3[index]\n",
        "    list.append(temp)\n",
        "  print(list)  "
      ],
      "id": "QrKErLgSJv3a"
    },
    {
      "cell_type": "code",
      "execution_count": null,
      "metadata": {
        "colab": {
          "base_uri": "https://localhost:8080/"
        },
        "id": "79xrj8XCJv3a",
        "outputId": "f5bf9589-3e0c-4dfd-d8b5-74ed4b42ea63"
      },
      "outputs": [
        {
          "output_type": "stream",
          "name": "stdout",
          "text": [
            "['helloamfaateih', 'hiamsaqib', 'heyamqasim']\n"
          ]
        }
      ],
      "source": [
        "combine_tuples((\"hello\",\"hi\",\"hey\"),('am','am','am'),('faateih','saqib','qasim'))"
      ],
      "id": "79xrj8XCJv3a"
    },
    {
      "cell_type": "code",
      "execution_count": null,
      "metadata": {
        "id": "uaUk5YZnJv3b"
      },
      "outputs": [],
      "source": [
        "#Make one more test for your function"
      ],
      "id": "uaUk5YZnJv3b"
    },
    {
      "cell_type": "markdown",
      "metadata": {
        "id": "faC7J1nXL8N0"
      },
      "source": [
        "## Task 6"
      ],
      "id": "faC7J1nXL8N0"
    },
    {
      "cell_type": "code",
      "execution_count": null,
      "metadata": {
        "id": "gxKz3rTIL8N1"
      },
      "outputs": [],
      "source": [
        "Write a function, which returns the factorial of the given arguments in a dictionary, \n",
        "with original element as a key and its factorial as a value. "
      ],
      "id": "gxKz3rTIL8N1"
    },
    {
      "cell_type": "code",
      "execution_count": null,
      "metadata": {
        "id": "_nK3uqwQL8N3"
      },
      "outputs": [],
      "source": [
        "def factorial(*args):\n",
        "  dict={}\n",
        "  for x in args:\n",
        "    if x < 0:\n",
        "     print(\"Sorry, factorial does not exist for negative numbers\")\n",
        "    elif x == 0:\n",
        "     print(\"The factorial of 0 is 1\")\n",
        "    else:\n",
        "     fact=1\n",
        "     for i in range(1,x + 1):\n",
        "      fact = fact*i\n",
        "    dict[x]=fact\n",
        "  print(dict)      \n",
        "\n",
        "\n"
      ],
      "id": "_nK3uqwQL8N3"
    },
    {
      "cell_type": "code",
      "execution_count": null,
      "metadata": {
        "colab": {
          "base_uri": "https://localhost:8080/"
        },
        "id": "LPyHwy3wL8N3",
        "outputId": "0cec7a72-d8c7-40e9-ae59-6f86aa728d7f"
      },
      "outputs": [
        {
          "output_type": "stream",
          "name": "stdout",
          "text": [
            "{1: 1, 2: 2, 5: 120}\n"
          ]
        }
      ],
      "source": [
        "factorial(1,2,5)"
      ],
      "id": "LPyHwy3wL8N3"
    },
    {
      "cell_type": "code",
      "execution_count": null,
      "metadata": {
        "id": "GRQJqnX0L8N4"
      },
      "outputs": [],
      "source": [
        "#Make one more test for your function"
      ],
      "id": "GRQJqnX0L8N4"
    },
    {
      "cell_type": "markdown",
      "metadata": {
        "id": "WUZjb-4ly20w"
      },
      "source": [
        "## Task 7"
      ],
      "id": "WUZjb-4ly20w"
    },
    {
      "cell_type": "code",
      "execution_count": null,
      "metadata": {
        "id": "P-kMjIHey20x"
      },
      "outputs": [],
      "source": [
        "Complete the code of the class Cube, which finds its the volume. "
      ],
      "id": "P-kMjIHey20x"
    },
    {
      "cell_type": "code",
      "execution_count": null,
      "metadata": {
        "id": "xivmG5eay20x"
      },
      "outputs": [],
      "source": [
        "class Cube(): \n",
        " def __init__(self, length): \n",
        "  self.length=length\n",
        " def cube_volume(self): \n",
        "  print(self.length)\n",
        "  volume=(self.length)*(self.length)*(self.length)\n",
        "  print(volume) "
      ],
      "id": "xivmG5eay20x"
    },
    {
      "cell_type": "code",
      "execution_count": null,
      "metadata": {
        "colab": {
          "base_uri": "https://localhost:8080/"
        },
        "id": "HqoHT3ipy20x",
        "outputId": "7949b9dd-beca-4dcc-e04d-33f55de98477"
      },
      "outputs": [
        {
          "output_type": "stream",
          "name": "stdout",
          "text": [
            "19\n",
            "6859\n"
          ]
        }
      ],
      "source": [
        "newCube = Cube(19) \n",
        "newCube.cube_volume()"
      ],
      "id": "HqoHT3ipy20x"
    },
    {
      "cell_type": "markdown",
      "metadata": {
        "id": "Vt5GZv9eCL76"
      },
      "source": [
        "## Task 8"
      ],
      "id": "Vt5GZv9eCL76"
    },
    {
      "cell_type": "code",
      "execution_count": null,
      "metadata": {
        "id": "oEYFgnlWCL77"
      },
      "outputs": [],
      "source": [
        "Write a function, which checks whether all elements of two numpy arrays are \n",
        "equal"
      ],
      "id": "oEYFgnlWCL77"
    },
    {
      "cell_type": "code",
      "execution_count": null,
      "metadata": {
        "id": "tWb4wj91CL77"
      },
      "outputs": [],
      "source": [
        "def equality(nparray,nparray2):\n",
        "  bol=np.array_equal(nparray,nparray2)\n",
        "  print(bol)\n",
        "\n"
      ],
      "id": "tWb4wj91CL77"
    },
    {
      "cell_type": "code",
      "execution_count": null,
      "metadata": {
        "colab": {
          "base_uri": "https://localhost:8080/"
        },
        "id": "IUIlrfsLCL78",
        "outputId": "257f6bf4-b9a4-4950-f378-dd94710d5988"
      },
      "outputs": [
        {
          "output_type": "stream",
          "name": "stdout",
          "text": [
            "False\n"
          ]
        }
      ],
      "source": [
        "equality([1,2,3],[1,2,4])"
      ],
      "id": "IUIlrfsLCL78"
    },
    {
      "cell_type": "code",
      "execution_count": null,
      "metadata": {
        "id": "wad8QjN-CL78"
      },
      "outputs": [],
      "source": [
        "#Make one more test for your function"
      ],
      "id": "wad8QjN-CL78"
    },
    {
      "cell_type": "code",
      "execution_count": null,
      "metadata": {
        "id": "OI4UwHfIy20x"
      },
      "outputs": [],
      "source": [
        "#Make one more test for your function"
      ],
      "id": "OI4UwHfIy20x"
    },
    {
      "cell_type": "markdown",
      "metadata": {
        "id": "tgk4chlz_gpS"
      },
      "source": [
        "# Task 9"
      ],
      "id": "tgk4chlz_gpS"
    },
    {
      "cell_type": "code",
      "execution_count": null,
      "metadata": {
        "id": "TdLdvlQ4_gpT"
      },
      "outputs": [],
      "source": [
        "Write a function, which normalizes a 3x3 randomly generated matrix (maximal \n",
        "element after normalization should be 1, minimal should be 0, other should be \n",
        "proportional to them)."
      ],
      "id": "TdLdvlQ4_gpT"
    },
    {
      "cell_type": "code",
      "execution_count": null,
      "metadata": {
        "id": "6OMXshBt_gpT"
      },
      "outputs": [],
      "source": [
        "def normalize():\n",
        "  \n",
        "  array1=np.random.rand(3,3)\n",
        "  print(array1)\n",
        "  xmax, xmin = array1.max(), array1.min()\n",
        "  array1 = (array1 - xmin)/(xmax - xmin)\n",
        "  print(array1)\n",
        "  "
      ],
      "id": "6OMXshBt_gpT"
    },
    {
      "cell_type": "code",
      "execution_count": null,
      "metadata": {
        "id": "EuKvf7vI_gpT",
        "colab": {
          "base_uri": "https://localhost:8080/"
        },
        "outputId": "a4c14b0f-1182-4b4f-afc2-352f70bde494"
      },
      "outputs": [
        {
          "output_type": "stream",
          "name": "stdout",
          "text": [
            "[[0.6989544  0.95317544 0.2156656 ]\n",
            " [0.56541367 0.94019242 0.40483796]\n",
            " [0.32488815 0.93232032 0.72744125]]\n",
            "[[0.65529811 1.         0.        ]\n",
            " [0.47422834 0.98239614 0.25650147]\n",
            " [0.1480964  0.97172224 0.69392383]]\n"
          ]
        }
      ],
      "source": [
        "normalize()"
      ],
      "id": "EuKvf7vI_gpT"
    },
    {
      "cell_type": "code",
      "execution_count": null,
      "metadata": {
        "id": "GGxSLZ-W_gpU"
      },
      "outputs": [],
      "source": [
        "#Make one more test for your function"
      ],
      "id": "GGxSLZ-W_gpU"
    },
    {
      "cell_type": "markdown",
      "metadata": {
        "id": "9hGMn120Lpat"
      },
      "source": [
        "# Task 10"
      ],
      "id": "9hGMn120Lpat"
    },
    {
      "cell_type": "code",
      "execution_count": null,
      "metadata": {
        "id": "Mnd0aohqLpat"
      },
      "outputs": [],
      "source": [
        "Write a function, which returns average, standard deviation and variance of a \n",
        "numpy array as a tuple."
      ],
      "id": "Mnd0aohqLpat"
    },
    {
      "cell_type": "code",
      "execution_count": null,
      "metadata": {
        "id": "ZlVkiBTOLpat"
      },
      "outputs": [],
      "source": [
        "def rsv(array1):\n",
        "  sd=np.std(array1)\n",
        "  vari=np.var(array1)\n",
        "  average=np.average(array1)\n",
        "  mytuple=(sd,vari,average)\n",
        "  print(mytuple)\n"
      ],
      "id": "ZlVkiBTOLpat"
    },
    {
      "cell_type": "code",
      "execution_count": null,
      "metadata": {
        "id": "Z1yybtUJLpav",
        "colab": {
          "base_uri": "https://localhost:8080/"
        },
        "outputId": "acf526c0-3fb0-4f30-e4a2-c81ee9e156a1"
      },
      "outputs": [
        {
          "output_type": "stream",
          "name": "stdout",
          "text": [
            "(8.16496580927726, 66.66666666666667, 20.0)\n"
          ]
        }
      ],
      "source": [
        "rsv([10,20,30])"
      ],
      "id": "Z1yybtUJLpav"
    },
    {
      "cell_type": "code",
      "execution_count": null,
      "metadata": {
        "id": "O0RAYwwZLpaw"
      },
      "outputs": [],
      "source": [
        "#Make one more test for your function"
      ],
      "id": "O0RAYwwZLpaw"
    },
    {
      "cell_type": "markdown",
      "metadata": {
        "id": "0hMGOIpwF7ld"
      },
      "source": [
        "## Task 11"
      ],
      "id": "0hMGOIpwF7ld"
    },
    {
      "cell_type": "code",
      "execution_count": null,
      "metadata": {
        "id": "NA4jM1z3F7ld"
      },
      "outputs": [],
      "source": [
        "Write a function, which returns all dates on specified month, given the target \n",
        "month and the next one. "
      ],
      "id": "NA4jM1z3F7ld"
    },
    {
      "cell_type": "code",
      "execution_count": null,
      "metadata": {
        "id": "FtcgmZOXF7ld"
      },
      "outputs": [],
      "source": [
        "def dates(sdate,edate):\n",
        " days=pandas.date_range(sdate,edate)\n",
        " print(days)"
      ],
      "id": "FtcgmZOXF7ld"
    },
    {
      "cell_type": "code",
      "execution_count": null,
      "metadata": {
        "colab": {
          "base_uri": "https://localhost:8080/"
        },
        "id": "IhVDjP-fF7ld",
        "outputId": "b2e4d21c-c40d-4d9f-ed34-b41a4202bf50"
      },
      "outputs": [
        {
          "output_type": "stream",
          "name": "stdout",
          "text": [
            "DatetimeIndex(['2012-07-01', '2012-07-02', '2012-07-03', '2012-07-04',\n",
            "               '2012-07-05', '2012-07-06', '2012-07-07', '2012-07-08',\n",
            "               '2012-07-09', '2012-07-10', '2012-07-11', '2012-07-12',\n",
            "               '2012-07-13', '2012-07-14', '2012-07-15', '2012-07-16',\n",
            "               '2012-07-17', '2012-07-18', '2012-07-19', '2012-07-20',\n",
            "               '2012-07-21', '2012-07-22', '2012-07-23', '2012-07-24',\n",
            "               '2012-07-25', '2012-07-26', '2012-07-27', '2012-07-28',\n",
            "               '2012-07-29', '2012-07-30', '2012-07-31', '2012-08-01'],\n",
            "              dtype='datetime64[ns]', freq='D')\n"
          ]
        }
      ],
      "source": [
        "dates('2012-07', '2012-08')"
      ],
      "id": "IhVDjP-fF7ld"
    },
    {
      "cell_type": "code",
      "execution_count": null,
      "metadata": {
        "id": "bCg0ZB75F7le"
      },
      "outputs": [],
      "source": [
        "#Make one more test for your function"
      ],
      "id": "bCg0ZB75F7le"
    },
    {
      "cell_type": "markdown",
      "source": [
        ""
      ],
      "metadata": {
        "id": "00KA8hRwJYvN"
      },
      "id": "00KA8hRwJYvN"
    },
    {
      "cell_type": "markdown",
      "metadata": {
        "id": "oLuAjElfJZP3"
      },
      "source": [
        "## Task 12"
      ],
      "id": "oLuAjElfJZP3"
    },
    {
      "cell_type": "code",
      "execution_count": null,
      "metadata": {
        "id": "tG2Zd9T8JZP3"
      },
      "outputs": [],
      "source": [
        "Write a function, which compares elements of the two pandas Series of the same \n",
        "size, return bool (True if all elements are equal)."
      ],
      "id": "tG2Zd9T8JZP3"
    },
    {
      "cell_type": "code",
      "execution_count": null,
      "metadata": {
        "id": "dZMni52dJZP3"
      },
      "outputs": [],
      "source": [
        "def compare(series1,series2):\n",
        " ps1 = pandas.Series(series1)\n",
        " ps2 = pandas.Series(series2)\n",
        " result = ps1.equals(other=ps2)\n",
        " print(result)"
      ],
      "id": "dZMni52dJZP3"
    },
    {
      "cell_type": "code",
      "execution_count": null,
      "metadata": {
        "colab": {
          "base_uri": "https://localhost:8080/"
        },
        "outputId": "5e4f3180-6f03-47e9-a2ba-bd8478b0886e",
        "id": "4JWrPBABJZP3"
      },
      "outputs": [
        {
          "output_type": "stream",
          "name": "stdout",
          "text": [
            "True\n"
          ]
        }
      ],
      "source": [
        "compare([1,2,3],[1,2,3])"
      ],
      "id": "4JWrPBABJZP3"
    },
    {
      "cell_type": "code",
      "execution_count": null,
      "metadata": {
        "id": "ONu8IPpfJZP4"
      },
      "outputs": [],
      "source": [
        "#Make one more test for your function"
      ],
      "id": "ONu8IPpfJZP4"
    },
    {
      "cell_type": "markdown",
      "source": [
        ""
      ],
      "metadata": {
        "id": "84zuO-bBEJMo"
      },
      "id": "84zuO-bBEJMo"
    },
    {
      "cell_type": "markdown",
      "metadata": {
        "id": "6k1Uut4CELSV"
      },
      "source": [
        "# Task 13"
      ],
      "id": "6k1Uut4CELSV"
    },
    {
      "cell_type": "code",
      "execution_count": null,
      "metadata": {
        "id": "ByXbiONpELSW"
      },
      "outputs": [],
      "source": [
        "Write a function, which assigns new string indices to the given DataFrame. The \n",
        "DataFrame and new string indices should be parameters of the function"
      ],
      "id": "ByXbiONpELSW"
    },
    {
      "cell_type": "code",
      "execution_count": null,
      "metadata": {
        "id": "P10nk7JcELSW"
      },
      "outputs": [],
      "source": [
        "students = [['jack', 34, 'Sydeny', 'Australia',85.96],\n",
        "            ['Riti', 30, 'Delhi', 'India',95.20],\n",
        "            ['Vansh', 31, 'Delhi', 'India',85.25],\n",
        "            ['Nanyu', 32, 'Tokyo', 'Japan',74.21],\n",
        "            ['Maychan', 16, 'New York', 'US',99.63],\n",
        "            ['Mike', 17, 'las vegas', 'US',47.28]]\n",
        "index=['a', 'b', 'c', 'd', 'e', 'f']\n",
        "\n",
        "\n",
        "def newind(data,index):\n",
        "   df = pandas.DataFrame(data,index=index  )\n",
        "   df\n",
        "   print(df)\n"
      ],
      "id": "P10nk7JcELSW"
    },
    {
      "cell_type": "code",
      "execution_count": null,
      "metadata": {
        "id": "70uyNrecG1AV",
        "outputId": "4c70b081-1d32-449c-cffe-5e4fb0f0786c",
        "colab": {
          "base_uri": "https://localhost:8080/"
        }
      },
      "outputs": [
        {
          "output_type": "stream",
          "name": "stdout",
          "text": [
            "         0   1          2          3      4\n",
            "a     jack  34     Sydeny  Australia  85.96\n",
            "b     Riti  30      Delhi      India  95.20\n",
            "c    Vansh  31      Delhi      India  85.25\n",
            "d    Nanyu  32      Tokyo      Japan  74.21\n",
            "e  Maychan  16   New York         US  99.63\n",
            "f     Mike  17  las vegas         US  47.28\n"
          ]
        }
      ],
      "source": [
        "newind(students,index)\n",
        " \n"
      ],
      "id": "70uyNrecG1AV"
    },
    {
      "cell_type": "code",
      "execution_count": null,
      "metadata": {
        "colab": {
          "base_uri": "https://localhost:8080/"
        },
        "outputId": "5e4f3180-6f03-47e9-a2ba-bd8478b0886e",
        "id": "9CUSNI4fELSW"
      },
      "outputs": [
        {
          "output_type": "stream",
          "name": "stdout",
          "text": [
            "True\n"
          ]
        }
      ],
      "source": [
        ""
      ],
      "id": "9CUSNI4fELSW"
    },
    {
      "cell_type": "code",
      "execution_count": null,
      "metadata": {
        "id": "o-tl9XbBELSX"
      },
      "outputs": [],
      "source": [
        "#Make one more test for your function"
      ],
      "id": "o-tl9XbBELSX"
    },
    {
      "cell_type": "markdown",
      "source": [
        ""
      ],
      "metadata": {
        "id": "fHDpsSFyUm6O"
      },
      "id": "fHDpsSFyUm6O"
    },
    {
      "cell_type": "markdown",
      "metadata": {
        "id": "E9_VA74MUn66"
      },
      "source": [
        "# Task 14"
      ],
      "id": "E9_VA74MUn66"
    },
    {
      "cell_type": "code",
      "execution_count": null,
      "metadata": {
        "id": "31kHcpT1Un67"
      },
      "outputs": [],
      "source": [
        "Write a function, which extracts a part of data from a DataFrame on given column \n",
        "and row range (parameters of the function should be DataFrame, col_start, \n",
        "col_end, row_start, row_end)"
      ],
      "id": "31kHcpT1Un67"
    },
    {
      "cell_type": "code",
      "execution_count": 31,
      "metadata": {
        "id": "5zyTIztIUn68"
      },
      "outputs": [],
      "source": [
        "students = [['jack', 34, 'Sydeny', 'Australia',85.96],\n",
        "            ['Riti', 30, 'Delhi', 'India',95.20],\n",
        "            ['Vansh', 31, 'Delhi', 'India',85.25],\n",
        "            ['Nanyu', 32, 'Tokyo', 'Japan',74.21],\n",
        "            ['Maychan', 16, 'New York', 'US',99.63],\n",
        "            ['Mike', 17, 'las vegas', 'US',47.28]]\n",
        "\n",
        "\n",
        "\n",
        "def new(data,col_start,col_end,row_start,row_end):\n",
        "   df = pandas.DataFrame(data)\n",
        "   new=df.iloc[row_start:row_end,col_start:col_end]\n",
        "   print(new)\n"
      ],
      "id": "5zyTIztIUn68"
    },
    {
      "cell_type": "code",
      "execution_count": 32,
      "metadata": {
        "outputId": "0be2f206-321c-48d7-f0b2-ee49eea401f8",
        "colab": {
          "base_uri": "https://localhost:8080/"
        },
        "id": "1q_geZ0RUn68"
      },
      "outputs": [
        {
          "output_type": "stream",
          "name": "stdout",
          "text": [
            "       0   1      2      3\n",
            "2  Vansh  31  Delhi  India\n",
            "3  Nanyu  32  Tokyo  Japan\n"
          ]
        }
      ],
      "source": [
        "new(students,0,4,2,4)\n",
        " \n"
      ],
      "id": "1q_geZ0RUn68"
    },
    {
      "cell_type": "code",
      "execution_count": null,
      "metadata": {
        "id": "qx0KUL44Un69"
      },
      "outputs": [],
      "source": [
        "#Make one more test for your function"
      ],
      "id": "qx0KUL44Un69"
    },
    {
      "cell_type": "markdown",
      "source": [
        ""
      ],
      "metadata": {
        "id": "f6y123yOWFT5"
      },
      "id": "f6y123yOWFT5"
    },
    {
      "cell_type": "markdown",
      "metadata": {
        "id": "nuYfzSjrWF8T"
      },
      "source": [
        "# Task 15"
      ],
      "id": "nuYfzSjrWF8T"
    },
    {
      "cell_type": "code",
      "execution_count": null,
      "metadata": {
        "id": "f3FuIs91WF8T"
      },
      "outputs": [],
      "source": [
        "Write a function, which returns a DataFrame by merging of two DataFrames \n",
        "horizontally. The result has columns from both DataFrames"
      ],
      "id": "f3FuIs91WF8T"
    },
    {
      "cell_type": "code",
      "execution_count": 36,
      "metadata": {
        "id": "AWpG5_cMWF8U"
      },
      "outputs": [],
      "source": [
        "students = [['jack', 34, 'Sydeny', 'Australia',85.96],\n",
        "            ['Riti', 30, 'Delhi', 'India',95.20],\n",
        "            ['Vansh', 31, 'Delhi', 'India',85.25],\n",
        "            ['Nanyu', 32, 'Tokyo', 'Japan',74.21],\n",
        "            ['Maychan', 16, 'New York', 'US',99.63],\n",
        "            ['Mike', 17, 'las vegas', 'US',47.28]]\n",
        "\n",
        "\n",
        "students2=[['Nanyu', 32, 'Tokyo', 'Japan',74.21],\n",
        "            ['Maychan', 16, 'New York', 'US',99.63],\n",
        "            ['Mike', 17, 'las vegas', 'US',47.28]]\n",
        "\n",
        "\n",
        "def merge(first,second):\n",
        "  f=pandas.DataFrame(first)\n",
        "  s=pandas.DataFrame(second)\n",
        "  result = pandas.concat([f, s], axis=1)\n",
        "  print(result)\n",
        "\n",
        "\n",
        "\n"
      ],
      "id": "AWpG5_cMWF8U"
    },
    {
      "cell_type": "code",
      "execution_count": 37,
      "metadata": {
        "outputId": "0af33516-df08-4787-8a58-c5b5abb64c22",
        "colab": {
          "base_uri": "https://localhost:8080/"
        },
        "id": "EeUztcn3WF8U"
      },
      "outputs": [
        {
          "output_type": "stream",
          "name": "stdout",
          "text": [
            "         0   1          2          3      4        0     1          2      3  \\\n",
            "0     jack  34     Sydeny  Australia  85.96    Nanyu  32.0      Tokyo  Japan   \n",
            "1     Riti  30      Delhi      India  95.20  Maychan  16.0   New York     US   \n",
            "2    Vansh  31      Delhi      India  85.25     Mike  17.0  las vegas     US   \n",
            "3    Nanyu  32      Tokyo      Japan  74.21      NaN   NaN        NaN    NaN   \n",
            "4  Maychan  16   New York         US  99.63      NaN   NaN        NaN    NaN   \n",
            "5     Mike  17  las vegas         US  47.28      NaN   NaN        NaN    NaN   \n",
            "\n",
            "       4  \n",
            "0  74.21  \n",
            "1  99.63  \n",
            "2  47.28  \n",
            "3    NaN  \n",
            "4    NaN  \n",
            "5    NaN  \n"
          ]
        }
      ],
      "source": [
        "merge(students,students2)\n",
        " \n"
      ],
      "id": "EeUztcn3WF8U"
    },
    {
      "cell_type": "code",
      "execution_count": null,
      "metadata": {
        "id": "keRZTcHCWF8V"
      },
      "outputs": [],
      "source": [
        "#Make one more test for your function"
      ],
      "id": "keRZTcHCWF8V"
    }
  ],
  "metadata": {
    "kernelspec": {
      "display_name": "Python 3 (ipykernel)",
      "language": "python",
      "name": "python3"
    },
    "language_info": {
      "codemirror_mode": {
        "name": "ipython",
        "version": 3
      },
      "file_extension": ".py",
      "mimetype": "text/x-python",
      "name": "python",
      "nbconvert_exporter": "python",
      "pygments_lexer": "ipython3",
      "version": "3.9.7"
    },
    "colab": {
      "name": "template.ipynb",
      "provenance": []
    }
  },
  "nbformat": 4,
  "nbformat_minor": 5
}